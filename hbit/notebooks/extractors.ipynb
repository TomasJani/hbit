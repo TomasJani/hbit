{
 "cells": [
  {
   "cell_type": "markdown",
   "metadata": {},
   "source": [
    "# Device & Patch Extractors\n"
   ]
  },
  {
   "cell_type": "code",
   "execution_count": 1,
   "metadata": {},
   "outputs": [
    {
     "name": "stdout",
     "output_type": "stream",
     "text": [
      "env: LOGGING_LEVEL=WARNING\n"
     ]
    }
   ],
   "source": [
    "%load_ext autoreload\n",
    "%autoreload all\n",
    "%env LOGGING_LEVEL=WARNING"
   ]
  },
  {
   "cell_type": "code",
   "execution_count": 2,
   "metadata": {},
   "outputs": [
    {
     "name": "stderr",
     "output_type": "stream",
     "text": [
      "/Users/macbook/Projects/hbit/.venv/lib/python3.12/site-packages/tqdm/auto.py:21: TqdmWarning: IProgress not found. Please update jupyter and ipywidgets. See https://ipywidgets.readthedocs.io/en/stable/user_install.html\n",
      "  from .autonotebook import tqdm as notebook_tqdm\n"
     ]
    }
   ],
   "source": [
    "import typing\n",
    "\n",
    "from termcolor import colored\n",
    "\n",
    "from hbit import bootstrap, core, prompting, types\n",
    "from hbit.extractors import device_extractors, patch_extractors"
   ]
  },
  {
   "cell_type": "code",
   "execution_count": 3,
   "metadata": {},
   "outputs": [
    {
     "name": "stderr",
     "output_type": "stream",
     "text": [
      "/Users/macbook/Projects/hbit/hbit/bootstrap.py:117: LangChainBetaWarning: Introduced in 0.2.24. API subject to change.\n",
      "  rate_limiter = InMemoryRateLimiter(\n"
     ]
    },
    {
     "data": {
      "text/plain": [
       "<hbit.services.service_container.ServiceContainer at 0x120ed29c0>"
      ]
     },
     "execution_count": 3,
     "metadata": {},
     "output_type": "execute_result"
    }
   ],
   "source": [
    "service_factory = bootstrap.ServicesFactory()\n",
    "service_factory.add_db()\n",
    "service_factory.add_requests()\n",
    "service_factory.add_client()\n",
    "service_factory.add_chat_prompt_templates()\n",
    "service_factory.add_openai_models(requests_per_second=1)\n",
    "\n",
    "registry = service_factory.registry\n",
    "registry"
   ]
  },
  {
   "cell_type": "code",
   "execution_count": 4,
   "metadata": {},
   "outputs": [
    {
     "data": {
      "text/plain": [
       "ChatOpenAI(rate_limiter=<langchain_core.rate_limiters.InMemoryRateLimiter object at 0x1210893a0>, client=<openai.resources.chat.completions.Completions object at 0x1210c4740>, async_client=<openai.resources.chat.completions.AsyncCompletions object at 0x1210c6510>, root_client=<openai.OpenAI object at 0x1210aea20>, root_async_client=<openai.AsyncOpenAI object at 0x1210c47a0>, model_name='gpt-4o-mini', temperature=0.0, model_kwargs={}, openai_api_key=SecretStr('**********'), seed=0)"
      ]
     },
     "execution_count": 4,
     "metadata": {},
     "output_type": "execute_result"
    }
   ],
   "source": [
    "db = registry.get_service(core.DatabaseService)\n",
    "prompting_store = registry.get_service(prompting.PromptStore)\n",
    "model = registry.get_service(types.ExtractionModel)\n",
    "model"
   ]
  },
  {
   "cell_type": "code",
   "execution_count": 5,
   "metadata": {},
   "outputs": [],
   "source": [
    "class QuestionAnswer(typing.NamedTuple):\n",
    "    text: str\n",
    "    patch_build: str | None\n",
    "    device_identifier: str | None\n",
    "\n",
    "\n",
    "texts = [\n",
    "    QuestionAnswer(\n",
    "        text=\"Write a summary of how secure is an iPhone XS running iOS 17.7.2? Are there any known vulnerabilities or security concerns with this version?\",\n",
    "        patch_build=\"21h221\",\n",
    "        device_identifier=\"iphone11,2\",\n",
    "    ),\n",
    "    QuestionAnswer(\n",
    "        text=\"How security is my iPhone 13 Pro device if I have patch 18.1.0 installed identified by build 22B83.\",\n",
    "        patch_build=\"22b83\",\n",
    "        device_identifier=\"iphone14,2\",\n",
    "    ),\n",
    "    QuestionAnswer(\n",
    "        text=\"What version does my patch with build 22B83 have?\",\n",
    "        patch_build=\"22b83\",\n",
    "        device_identifier=None,\n",
    "    ),\n",
    "    QuestionAnswer(\n",
    "        text=\"Can you explain if iPhone 12 running iOS 16.5.1 is safe from known vulnerabilities?\",\n",
    "        patch_build=\"20f75\",\n",
    "        device_identifier=\"iphone13,2\",\n",
    "    ),\n",
    "    QuestionAnswer(\n",
    "        text=\"What security improvements are introduced in iOS 17.0.3 for the iPhone 14 Pro Max?\",\n",
    "        patch_build=\"21a360\",\n",
    "        device_identifier=\"iphone15,3\",\n",
    "    ),\n",
    "    QuestionAnswer(\n",
    "        text=\"Is my iPhone SE (2nd Gen) secure if it's updated to iOS 15.7.4 with build number 19H321?\",\n",
    "        patch_build=\"19h321\",\n",
    "        device_identifier=None,\n",
    "    ),\n",
    "    QuestionAnswer(\n",
    "        text=\"Are there any critical security concerns with iOS 16.6.0 on the iPhone 11 Pro?\",\n",
    "        patch_build=\"20g75\",\n",
    "        device_identifier=\"iphone12,3\",\n",
    "    ),\n",
    "    QuestionAnswer(\n",
    "        text=\"What known bugs or vulnerabilities exist for iPhone XR devices running iOS 15.2.1?\",\n",
    "        patch_build=\"19c63\",\n",
    "        device_identifier=\"iphone11,8\",\n",
    "    ),\n",
    "    QuestionAnswer(\n",
    "        text=\"How does the iOS 17.1.1 patch improve security on iPhone 13 devices? What is its build number?\",\n",
    "        patch_build=\"21b91\",\n",
    "        device_identifier=\"iphone14,5\",\n",
    "    ),\n",
    "    QuestionAnswer(\n",
    "        text=\"Can you confirm if my iPhone XS Max running iOS 15.2 build 19C56 is fully secure?\",\n",
    "        patch_build=\"19c56\",\n",
    "        device_identifier=\"iphone11,6\",\n",
    "    ),\n",
    "    QuestionAnswer(\n",
    "        text=\"What's the latest iOS patch for iPhone 14, and does it address critical security vulnerabilities?\",\n",
    "        patch_build=None,\n",
    "        device_identifier=\"iphone14,7\",\n",
    "    ),\n",
    "    QuestionAnswer(\n",
    "        text=\"Are there any concerns with iPhone 12 Mini running iOS 17.6.2 build 21G123?\",\n",
    "        patch_build=None,\n",
    "        device_identifier=\"iphone13,1\",\n",
    "    ),\n",
    "    QuestionAnswer(\n",
    "        text=\"What issues might arise from using an iPhone 11?\",\n",
    "        patch_build=None,\n",
    "        device_identifier=\"iphone12,1\",\n",
    "    ),\n",
    "]"
   ]
  },
  {
   "cell_type": "code",
   "execution_count": 6,
   "metadata": {},
   "outputs": [
    {
     "data": {
      "text/plain": [
       "'How does the iOS 17.1.1 patch improve security on iPhone 13 devices? What is its build number?'"
      ]
     },
     "execution_count": 6,
     "metadata": {},
     "output_type": "execute_result"
    }
   ],
   "source": [
    "index = 8\n",
    "text = texts[index].text\n",
    "text"
   ]
  },
  {
   "cell_type": "markdown",
   "metadata": {},
   "source": [
    "## SQL Device Extractor"
   ]
  },
  {
   "cell_type": "code",
   "execution_count": 7,
   "metadata": {},
   "outputs": [
    {
     "data": {
      "text/plain": [
       "<hbit.extractors.device_extractors.SqlDeviceExtractor at 0x1210c7590>"
      ]
     },
     "execution_count": 7,
     "metadata": {},
     "output_type": "execute_result"
    }
   ],
   "source": [
    "sql_device_extractor = device_extractors.SqlDeviceExtractor(\n",
    "    model=model, db=db, prompt_store=prompting_store\n",
    ")\n",
    "sql_device_extractor"
   ]
  },
  {
   "cell_type": "code",
   "execution_count": 8,
   "metadata": {},
   "outputs": [],
   "source": [
    "sql_device_extractor.extract_device_identifier(text)"
   ]
  },
  {
   "cell_type": "markdown",
   "metadata": {},
   "source": [
    "## Structured Device Extractor\n"
   ]
  },
  {
   "cell_type": "code",
   "execution_count": 9,
   "metadata": {},
   "outputs": [
    {
     "data": {
      "text/plain": [
       "<hbit.extractors.device_extractors.JsonDeviceExtractor at 0x1219fc110>"
      ]
     },
     "execution_count": 9,
     "metadata": {},
     "output_type": "execute_result"
    }
   ],
   "source": [
    "structured_device_extractor = device_extractors.JsonDeviceExtractor(\n",
    "    model=model, db=db, prompt_store=prompting_store\n",
    ")\n",
    "structured_device_extractor"
   ]
  },
  {
   "cell_type": "code",
   "execution_count": 10,
   "metadata": {},
   "outputs": [
    {
     "data": {
      "text/plain": [
       "'iphone14,5'"
      ]
     },
     "execution_count": 10,
     "metadata": {},
     "output_type": "execute_result"
    }
   ],
   "source": [
    "structured_device_extractor.extract_device_identifier(text)"
   ]
  },
  {
   "cell_type": "markdown",
   "metadata": {},
   "source": [
    "## SQL Patch Extractor\n"
   ]
  },
  {
   "cell_type": "code",
   "execution_count": 11,
   "metadata": {},
   "outputs": [
    {
     "data": {
      "text/plain": [
       "<hbit.extractors.patch_extractors.SqlPatchExtractor at 0x1210ace90>"
      ]
     },
     "execution_count": 11,
     "metadata": {},
     "output_type": "execute_result"
    }
   ],
   "source": [
    "sql_patch_extractor = patch_extractors.SqlPatchExtractor(\n",
    "    model=model, db=db, prompt_store=prompting_store\n",
    ")\n",
    "sql_patch_extractor"
   ]
  },
  {
   "cell_type": "code",
   "execution_count": 12,
   "metadata": {},
   "outputs": [
    {
     "data": {
      "text/plain": [
       "'21b91'"
      ]
     },
     "execution_count": 12,
     "metadata": {},
     "output_type": "execute_result"
    }
   ],
   "source": [
    "sql_patch_extractor.extract_patch_build(text)"
   ]
  },
  {
   "cell_type": "markdown",
   "metadata": {},
   "source": [
    "## Structured Patch Extractor\n"
   ]
  },
  {
   "cell_type": "code",
   "execution_count": 13,
   "metadata": {},
   "outputs": [
    {
     "data": {
      "text/plain": [
       "<hbit.extractors.patch_extractors.JsonPatchExtractor at 0x1219e7ef0>"
      ]
     },
     "execution_count": 13,
     "metadata": {},
     "output_type": "execute_result"
    }
   ],
   "source": [
    "structured_patch_extractor = patch_extractors.JsonPatchExtractor(\n",
    "    model=model, db=db, prompt_store=prompting_store\n",
    ")\n",
    "structured_patch_extractor"
   ]
  },
  {
   "cell_type": "code",
   "execution_count": 14,
   "metadata": {},
   "outputs": [
    {
     "data": {
      "text/plain": [
       "'21b91'"
      ]
     },
     "execution_count": 14,
     "metadata": {},
     "output_type": "execute_result"
    }
   ],
   "source": [
    "structured_patch_extractor.extract_patch_build(text)"
   ]
  },
  {
   "cell_type": "markdown",
   "metadata": {},
   "source": [
    "## Test all And Answers"
   ]
  },
  {
   "cell_type": "code",
   "execution_count": 15,
   "metadata": {},
   "outputs": [
    {
     "name": "stdout",
     "output_type": "stream",
     "text": [
      "================================== Example 0 ==================================\n",
      "Text: Write a summary of how secure is an iPhone XS running iOS 17.7.2? Are there any known vulnerabilities or security concerns with this version?\n",
      "Device Extractor: Expected: \u001b[32miphone11,2\u001b[0m, Structured Response: \u001b[32miphone11,2\u001b[0m, SQL Response: \u001b[31mNone\u001b[0m\n",
      "Patch Extractor: Expected: \u001b[32m21h221\u001b[0m, Structured Response: \u001b[32m21h221\u001b[0m, SQL Response: \u001b[31mNone\u001b[0m\n",
      "\n",
      "================================== Example 1 ==================================\n",
      "Text: How security is my iPhone 13 Pro device if I have patch 18.1.0 installed identified by build 22B83.\n",
      "Device Extractor: Expected: \u001b[32miphone14,2\u001b[0m, Structured Response: \u001b[32miphone14,2\u001b[0m, SQL Response: \u001b[31mNone\u001b[0m\n",
      "Patch Extractor: Expected: \u001b[32m22b83\u001b[0m, Structured Response: \u001b[32m22b83\u001b[0m, SQL Response: \u001b[32m22b83\u001b[0m\n",
      "\n",
      "================================== Example 2 ==================================\n",
      "Text: What version does my patch with build 22B83 have?\n",
      "Device Extractor: Expected: \u001b[32mNone\u001b[0m, Structured Response: \u001b[32mNone\u001b[0m, SQL Response: \u001b[32mNone\u001b[0m\n",
      "Patch Extractor: Expected: \u001b[32m22b83\u001b[0m, Structured Response: \u001b[32m22b83\u001b[0m, SQL Response: \u001b[31m18.1.0\u001b[0m\n",
      "\n",
      "================================== Example 3 ==================================\n",
      "Text: Can you explain if iPhone 12 running iOS 16.5.1 is safe from known vulnerabilities?\n",
      "Device Extractor: Expected: \u001b[32miphone13,2\u001b[0m, Structured Response: \u001b[32miphone13,2\u001b[0m, SQL Response: \u001b[32miphone13,2\u001b[0m\n",
      "Patch Extractor: Expected: \u001b[32m20f75\u001b[0m, Structured Response: \u001b[32m20f75\u001b[0m, SQL Response: \u001b[32m20f75\u001b[0m\n",
      "\n",
      "================================== Example 4 ==================================\n",
      "Text: What security improvements are introduced in iOS 17.0.3 for the iPhone 14 Pro Max?\n",
      "Device Extractor: Expected: \u001b[32miphone15,3\u001b[0m, Structured Response: \u001b[32miphone15,3\u001b[0m, SQL Response: \u001b[32miphone15,3\u001b[0m\n",
      "Patch Extractor: Expected: \u001b[32m21a360\u001b[0m, Structured Response: \u001b[32m21a360\u001b[0m, SQL Response: \u001b[31mNone\u001b[0m\n",
      "\n",
      "================================== Example 5 ==================================\n",
      "Text: Is my iPhone SE (2nd Gen) secure if it's updated to iOS 15.7.4 with build number 19H321?\n",
      "Device Extractor: Expected: \u001b[32mNone\u001b[0m, Structured Response: \u001b[32mNone\u001b[0m, SQL Response: \u001b[32mNone\u001b[0m\n",
      "Patch Extractor: Expected: \u001b[32m19h321\u001b[0m, Structured Response: \u001b[32m19h321\u001b[0m, SQL Response: \u001b[32m19h321\u001b[0m\n",
      "\n",
      "================================== Example 6 ==================================\n",
      "Text: Are there any critical security concerns with iOS 16.6.0 on the iPhone 11 Pro?\n",
      "Device Extractor: Expected: \u001b[32miphone12,3\u001b[0m, Structured Response: \u001b[32miphone12,3\u001b[0m, SQL Response: \u001b[32miphone12,3\u001b[0m\n",
      "Patch Extractor: Expected: \u001b[32m20g75\u001b[0m, Structured Response: \u001b[32m20g75\u001b[0m, SQL Response: \u001b[32m20g75\u001b[0m\n",
      "\n",
      "================================== Example 7 ==================================\n",
      "Text: What known bugs or vulnerabilities exist for iPhone XR devices running iOS 15.2.1?\n",
      "Device Extractor: Expected: \u001b[32miphone11,8\u001b[0m, Structured Response: \u001b[32miphone11,8\u001b[0m, SQL Response: \u001b[32miphone11,8\u001b[0m\n",
      "Patch Extractor: Expected: \u001b[32m19c63\u001b[0m, Structured Response: \u001b[32m19c63\u001b[0m, SQL Response: \u001b[32m19c63\u001b[0m\n",
      "\n",
      "================================== Example 8 ==================================\n",
      "Text: How does the iOS 17.1.1 patch improve security on iPhone 13 devices? What is its build number?\n",
      "Device Extractor: Expected: \u001b[32miphone14,5\u001b[0m, Structured Response: \u001b[32miphone14,5\u001b[0m, SQL Response: \u001b[31mNone\u001b[0m\n",
      "Patch Extractor: Expected: \u001b[32m21b91\u001b[0m, Structured Response: \u001b[32m21b91\u001b[0m, SQL Response: \u001b[32m21b91\u001b[0m\n",
      "\n",
      "================================== Example 9 ==================================\n",
      "Text: Can you confirm if my iPhone XS Max running iOS 15.2 build 19C56 is fully secure?\n",
      "Device Extractor: Expected: \u001b[32miphone11,6\u001b[0m, Structured Response: \u001b[32miphone11,6\u001b[0m, SQL Response: \u001b[32miphone11,6\u001b[0m\n",
      "Patch Extractor: Expected: \u001b[32m19c56\u001b[0m, Structured Response: \u001b[32m19c56\u001b[0m, SQL Response: \u001b[32m19c56\u001b[0m\n",
      "\n",
      "================================== Example 10 ==================================\n",
      "Text: What's the latest iOS patch for iPhone 14, and does it address critical security vulnerabilities?\n",
      "Device Extractor: Expected: \u001b[32miphone14,7\u001b[0m, Structured Response: \u001b[31miphone14,2\u001b[0m, SQL Response: \u001b[31mNone\u001b[0m\n",
      "Patch Extractor: Expected: \u001b[32mNone\u001b[0m, Structured Response: \u001b[32mNone\u001b[0m, SQL Response: \u001b[32mNone\u001b[0m\n",
      "\n",
      "================================== Example 11 ==================================\n",
      "Text: Are there any concerns with iPhone 12 Mini running iOS 17.6.2 build 21G123?\n",
      "Device Extractor: Expected: \u001b[32miphone13,1\u001b[0m, Structured Response: \u001b[32miphone13,1\u001b[0m, SQL Response: \u001b[32miphone13,1\u001b[0m\n",
      "Patch Extractor: Expected: \u001b[32mNone\u001b[0m, Structured Response: \u001b[32mNone\u001b[0m, SQL Response: \u001b[32mNone\u001b[0m\n",
      "\n",
      "================================== Example 12 ==================================\n",
      "Text: What issues might arise from using an iPhone 11?\n",
      "Device Extractor: Expected: \u001b[32miphone12,1\u001b[0m, Structured Response: \u001b[32miphone12,1\u001b[0m, SQL Response: \u001b[31mNone\u001b[0m\n",
      "Patch Extractor: Expected: \u001b[32mNone\u001b[0m, Structured Response: \u001b[32mNone\u001b[0m, SQL Response: \u001b[32mNone\u001b[0m\n",
      "\n"
     ]
    }
   ],
   "source": [
    "for i, (text, patch_build, device_identifier) in enumerate(texts):\n",
    "    print(\n",
    "        f\"================================== Example {i} ==================================\"\n",
    "    )\n",
    "    print(f\"Text: {text}\")\n",
    "\n",
    "    structured_device_identifier = (\n",
    "        structured_device_extractor.extract_device_identifier(text)\n",
    "    )\n",
    "    structured_color = (\n",
    "        \"green\" if structured_device_identifier == device_identifier else \"red\"\n",
    "    )\n",
    "    sql_device_identifier = sql_device_extractor.extract_device_identifier(text)\n",
    "    sql_color = \"green\" if sql_device_identifier == device_identifier else \"red\"\n",
    "\n",
    "    print(\n",
    "        f\"Device Extractor: Expected: {colored(device_identifier, 'green')}, \"\n",
    "        f\"Structured Response: {colored(structured_device_identifier, structured_color)}, \"\n",
    "        f\"SQL Response: {colored(sql_device_identifier, sql_color)}\"\n",
    "    )\n",
    "\n",
    "    structured_patch_build = structured_patch_extractor.extract_patch_build(text)\n",
    "    structured_color = \"green\" if structured_patch_build == patch_build else \"red\"\n",
    "    sql_patch_build = sql_patch_extractor.extract_patch_build(text)\n",
    "    sql_color = \"green\" if sql_patch_build == patch_build else \"red\"\n",
    "\n",
    "    print(\n",
    "        f\"Patch Extractor: Expected: {colored(patch_build, 'green')}, \"\n",
    "        f\"Structured Response: {colored(structured_patch_build, structured_color)}, \"\n",
    "        f\"SQL Response: {colored(sql_patch_build, sql_color)}\"\n",
    "    )\n",
    "    print()"
   ]
  },
  {
   "cell_type": "code",
   "execution_count": null,
   "metadata": {},
   "outputs": [],
   "source": []
  }
 ],
 "metadata": {
  "kernelspec": {
   "display_name": ".venv",
   "language": "python",
   "name": "python3"
  },
  "language_info": {
   "codemirror_mode": {
    "name": "ipython",
    "version": 3
   },
   "file_extension": ".py",
   "mimetype": "text/x-python",
   "name": "python",
   "nbconvert_exporter": "python",
   "pygments_lexer": "ipython3",
   "version": "3.12.6"
  }
 },
 "nbformat": 4,
 "nbformat_minor": 2
}
