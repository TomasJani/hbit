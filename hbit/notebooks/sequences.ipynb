{
 "cells": [
  {
   "cell_type": "markdown",
   "metadata": {},
   "source": [
    "# Sequences\n"
   ]
  },
  {
   "cell_type": "code",
   "execution_count": 1,
   "metadata": {},
   "outputs": [
    {
     "name": "stdout",
     "output_type": "stream",
     "text": [
      "env: LOGGING_LEVEL=INFO\n"
     ]
    }
   ],
   "source": [
    "%load_ext autoreload\n",
    "%autoreload all\n",
    "%env LOGGING_LEVEL=INFO"
   ]
  },
  {
   "cell_type": "code",
   "execution_count": 2,
   "metadata": {},
   "outputs": [
    {
     "name": "stderr",
     "output_type": "stream",
     "text": [
      "/Users/macbook/Projects/hbit/.venv/lib/python3.12/site-packages/tqdm/auto.py:21: TqdmWarning: IProgress not found. Please update jupyter and ipywidgets. See https://ipywidgets.readthedocs.io/en/stable/user_install.html\n",
      "  from .autonotebook import tqdm as notebook_tqdm\n"
     ]
    }
   ],
   "source": [
    "from IPython.display import Markdown\n",
    "\n",
    "from hbit import bootstrap, endpoints, enums"
   ]
  },
  {
   "cell_type": "code",
   "execution_count": 3,
   "metadata": {},
   "outputs": [
    {
     "name": "stderr",
     "output_type": "stream",
     "text": [
      "/Users/macbook/Projects/hbit/hbit/bootstrap/model_factory.py:248: LangChainBetaWarning: Introduced in 0.2.24. API subject to change.\n",
      "  rate_limiter = InMemoryRateLimiter(\n"
     ]
    },
    {
     "data": {
      "text/html": [
       "<pre style=\"white-space:pre;overflow-x:auto;line-height:normal;font-family:Menlo,'DejaVu Sans Mono',consolas,'Courier New',monospace\"><span style=\"color: #7fbfbf; text-decoration-color: #7fbfbf\">[02/27/25 14:41:38] </span><span style=\"color: #000080; text-decoration-color: #000080\">INFO    </span> HTTP Request: <span style=\"color: #808000; text-decoration-color: #808000; font-weight: bold\">POST</span> <span style=\"color: #0000ff; text-decoration-color: #0000ff; text-decoration: underline\">http://localhost:8000/api/v1/login/access-token</span>     <a href=\"file:///Users/macbook/Projects/hbit/.venv/lib/python3.12/site-packages/httpx/_client.py\" target=\"_blank\"><span style=\"color: #7f7f7f; text-decoration-color: #7f7f7f\">_client.py</span></a><span style=\"color: #7f7f7f; text-decoration-color: #7f7f7f\">:</span><a href=\"file:///Users/macbook/Projects/hbit/.venv/lib/python3.12/site-packages/httpx/_client.py#1025\" target=\"_blank\"><span style=\"color: #7f7f7f; text-decoration-color: #7f7f7f\">1025</span></a>\n",
       "<span style=\"color: #7fbfbf; text-decoration-color: #7fbfbf\">                    </span>         <span style=\"color: #008000; text-decoration-color: #008000\">\"HTTP/1.1 200 OK\"</span>                                                      <span style=\"color: #7f7f7f; text-decoration-color: #7f7f7f\">               </span>\n",
       "</pre>\n"
      ],
      "text/plain": [
       "\u001b[2;36m[02/27/25 14:41:38]\u001b[0m\u001b[2;36m \u001b[0m\u001b[34mINFO    \u001b[0m HTTP Request: \u001b[1;33mPOST\u001b[0m \u001b[4;94mhttp://localhost:8000/api/v1/login/access-token\u001b[0m     \u001b]8;id=934230;file:///Users/macbook/Projects/hbit/.venv/lib/python3.12/site-packages/httpx/_client.py\u001b\\\u001b[2m_client.py\u001b[0m\u001b]8;;\u001b\\\u001b[2m:\u001b[0m\u001b]8;id=563027;file:///Users/macbook/Projects/hbit/.venv/lib/python3.12/site-packages/httpx/_client.py#1025\u001b\\\u001b[2m1025\u001b[0m\u001b]8;;\u001b\\\n",
       "\u001b[2;36m                    \u001b[0m         \u001b[32m\"HTTP/1.1 200 OK\"\u001b[0m                                                      \u001b[2m               \u001b[0m\n"
      ]
     },
     "metadata": {},
     "output_type": "display_data"
    },
    {
     "data": {
      "text/plain": [
       "<hbit.services.service_container.ServiceContainer at 0x1083b9520>"
      ]
     },
     "execution_count": 3,
     "metadata": {},
     "output_type": "execute_result"
    }
   ],
   "source": [
    "registry = bootstrap.create_services(\n",
    "    device_extractor_type=enums.DeviceExtractorType.JSON,\n",
    "    patch_extractor_type=enums.PatchExtractorType.JSON,\n",
    "    summary_service_type=enums.SummaryServiceType.AI,\n",
    "    model_provider=enums.ModelProvider.GOOGLE,\n",
    ")\n",
    "registry"
   ]
  },
  {
   "cell_type": "code",
   "execution_count": 4,
   "metadata": {},
   "outputs": [
    {
     "data": {
      "text/plain": [
       "<hbit.endpoints.sequences.ImperativeEvaluator at 0x1083ca210>"
      ]
     },
     "execution_count": 4,
     "metadata": {},
     "output_type": "execute_result"
    }
   ],
   "source": [
    "sequence_evaluator = endpoints.ImperativeEvaluator(registry=registry)\n",
    "sequence_evaluator"
   ]
  },
  {
   "cell_type": "code",
   "execution_count": 5,
   "metadata": {},
   "outputs": [],
   "source": [
    "question = \"How secure is an iPhone XS running iOS 17.7.2? Are there any known vulnerabilities or security concerns with this version?\""
   ]
  },
  {
   "cell_type": "code",
   "execution_count": 6,
   "metadata": {},
   "outputs": [
    {
     "data": {
      "text/html": [
       "<pre style=\"white-space:pre;overflow-x:auto;line-height:normal;font-family:Menlo,'DejaVu Sans Mono',consolas,'Courier New',monospace\"><span style=\"color: #7fbfbf; text-decoration-color: #7fbfbf\">[02/27/25 14:41:45] </span><span style=\"color: #000080; text-decoration-color: #000080\">INFO    </span> HTTP Request: <span style=\"color: #808000; text-decoration-color: #808000; font-weight: bold\">GET</span>                                                      <a href=\"file:///Users/macbook/Projects/hbit/.venv/lib/python3.12/site-packages/httpx/_client.py\" target=\"_blank\"><span style=\"color: #7f7f7f; text-decoration-color: #7f7f7f\">_client.py</span></a><span style=\"color: #7f7f7f; text-decoration-color: #7f7f7f\">:</span><a href=\"file:///Users/macbook/Projects/hbit/.venv/lib/python3.12/site-packages/httpx/_client.py#1025\" target=\"_blank\"><span style=\"color: #7f7f7f; text-decoration-color: #7f7f7f\">1025</span></a>\n",
       "<span style=\"color: #7fbfbf; text-decoration-color: #7fbfbf\">                    </span>         <span style=\"color: #0000ff; text-decoration-color: #0000ff; text-decoration: underline\">http://localhost:8000/api/v1/device-evaluation?device_identifier=iphon</span> <span style=\"color: #7f7f7f; text-decoration-color: #7f7f7f\">               </span>\n",
       "<span style=\"color: #7fbfbf; text-decoration-color: #7fbfbf\">                    </span>         <span style=\"color: #0000ff; text-decoration-color: #0000ff; text-decoration: underline\">e11,2&amp;patch_build=21h221</span> <span style=\"color: #008000; text-decoration-color: #008000\">\"HTTP/1.1 200 OK\"</span>                             <span style=\"color: #7f7f7f; text-decoration-color: #7f7f7f\">               </span>\n",
       "</pre>\n"
      ],
      "text/plain": [
       "\u001b[2;36m[02/27/25 14:41:45]\u001b[0m\u001b[2;36m \u001b[0m\u001b[34mINFO    \u001b[0m HTTP Request: \u001b[1;33mGET\u001b[0m                                                      \u001b]8;id=646094;file:///Users/macbook/Projects/hbit/.venv/lib/python3.12/site-packages/httpx/_client.py\u001b\\\u001b[2m_client.py\u001b[0m\u001b]8;;\u001b\\\u001b[2m:\u001b[0m\u001b]8;id=694938;file:///Users/macbook/Projects/hbit/.venv/lib/python3.12/site-packages/httpx/_client.py#1025\u001b\\\u001b[2m1025\u001b[0m\u001b]8;;\u001b\\\n",
       "\u001b[2;36m                    \u001b[0m         \u001b[4;94mhttp://localhost:8000/api/v1/device-evaluation?\u001b[0m\u001b[4;94mdevice_identifier\u001b[0m\u001b[4;94m=\u001b[0m\u001b[4;94miphon\u001b[0m \u001b[2m               \u001b[0m\n",
       "\u001b[2;36m                    \u001b[0m         \u001b[4;94me11\u001b[0m\u001b[4;94m,2&\u001b[0m\u001b[4;94mpatch_build\u001b[0m\u001b[4;94m=\u001b[0m\u001b[4;94m21h221\u001b[0m \u001b[32m\"HTTP/1.1 200 OK\"\u001b[0m                             \u001b[2m               \u001b[0m\n"
      ]
     },
     "metadata": {},
     "output_type": "display_data"
    },
    {
     "data": {
      "text/html": [
       "<pre style=\"white-space:pre;overflow-x:auto;line-height:normal;font-family:Menlo,'DejaVu Sans Mono',consolas,'Courier New',monospace\"><span style=\"color: #7fbfbf; text-decoration-color: #7fbfbf\">                    </span><span style=\"color: #800000; text-decoration-color: #800000\">WARNING </span> Vulnerability with ID CVE-<span style=\"color: #008080; text-decoration-color: #008080; font-weight: bold\">2024</span>-<span style=\"color: #008080; text-decoration-color: #008080; font-weight: bold\">27869</span> can't be summarized because it is too  <a href=\"file:///Users/macbook/Projects/hbit/common/dto.py\" target=\"_blank\"><span style=\"color: #7f7f7f; text-decoration-color: #7f7f7f\">dto.py</span></a><span style=\"color: #7f7f7f; text-decoration-color: #7f7f7f\">:</span><a href=\"file:///Users/macbook/Projects/hbit/common/dto.py#226\" target=\"_blank\"><span style=\"color: #7f7f7f; text-decoration-color: #7f7f7f\">226</span></a>\n",
       "<span style=\"color: #7fbfbf; text-decoration-color: #7fbfbf\">                    </span>         big <span style=\"font-weight: bold\">(</span>it has <span style=\"color: #008080; text-decoration-color: #008080; font-weight: bold\">29231</span> tokens<span style=\"font-weight: bold\">)</span>.                                                  <span style=\"color: #7f7f7f; text-decoration-color: #7f7f7f\">          </span>\n",
       "</pre>\n"
      ],
      "text/plain": [
       "\u001b[2;36m                   \u001b[0m\u001b[2;36m \u001b[0m\u001b[31mWARNING \u001b[0m Vulnerability with ID CVE-\u001b[1;36m2024\u001b[0m-\u001b[1;36m27869\u001b[0m can't be summarized because it is too  \u001b]8;id=772287;file:///Users/macbook/Projects/hbit/common/dto.py\u001b\\\u001b[2mdto.py\u001b[0m\u001b]8;;\u001b\\\u001b[2m:\u001b[0m\u001b]8;id=224764;file:///Users/macbook/Projects/hbit/common/dto.py#226\u001b\\\u001b[2m226\u001b[0m\u001b]8;;\u001b\\\n",
       "\u001b[2;36m                    \u001b[0m         big \u001b[1m(\u001b[0mit has \u001b[1;36m29231\u001b[0m tokens\u001b[1m)\u001b[0m.                                                  \u001b[2m          \u001b[0m\n"
      ]
     },
     "metadata": {},
     "output_type": "display_data"
    },
    {
     "data": {
      "text/html": [
       "<pre style=\"white-space:pre;overflow-x:auto;line-height:normal;font-family:Menlo,'DejaVu Sans Mono',consolas,'Courier New',monospace\"><span style=\"color: #7fbfbf; text-decoration-color: #7fbfbf\">[02/27/25 14:41:48] </span><span style=\"color: #800000; text-decoration-color: #800000\">WARNING </span> Vulnerability with ID CVE-<span style=\"color: #008080; text-decoration-color: #008080; font-weight: bold\">2024</span>-<span style=\"color: #008080; text-decoration-color: #008080; font-weight: bold\">40857</span> can't be summarized because it is too  <a href=\"file:///Users/macbook/Projects/hbit/common/dto.py\" target=\"_blank\"><span style=\"color: #7f7f7f; text-decoration-color: #7f7f7f\">dto.py</span></a><span style=\"color: #7f7f7f; text-decoration-color: #7f7f7f\">:</span><a href=\"file:///Users/macbook/Projects/hbit/common/dto.py#226\" target=\"_blank\"><span style=\"color: #7f7f7f; text-decoration-color: #7f7f7f\">226</span></a>\n",
       "<span style=\"color: #7fbfbf; text-decoration-color: #7fbfbf\">                    </span>         big <span style=\"font-weight: bold\">(</span>it has <span style=\"color: #008080; text-decoration-color: #008080; font-weight: bold\">42967</span> tokens<span style=\"font-weight: bold\">)</span>.                                                  <span style=\"color: #7f7f7f; text-decoration-color: #7f7f7f\">          </span>\n",
       "</pre>\n"
      ],
      "text/plain": [
       "\u001b[2;36m[02/27/25 14:41:48]\u001b[0m\u001b[2;36m \u001b[0m\u001b[31mWARNING \u001b[0m Vulnerability with ID CVE-\u001b[1;36m2024\u001b[0m-\u001b[1;36m40857\u001b[0m can't be summarized because it is too  \u001b]8;id=129206;file:///Users/macbook/Projects/hbit/common/dto.py\u001b\\\u001b[2mdto.py\u001b[0m\u001b]8;;\u001b\\\u001b[2m:\u001b[0m\u001b]8;id=393973;file:///Users/macbook/Projects/hbit/common/dto.py#226\u001b\\\u001b[2m226\u001b[0m\u001b]8;;\u001b\\\n",
       "\u001b[2;36m                    \u001b[0m         big \u001b[1m(\u001b[0mit has \u001b[1;36m42967\u001b[0m tokens\u001b[1m)\u001b[0m.                                                  \u001b[2m          \u001b[0m\n"
      ]
     },
     "metadata": {},
     "output_type": "display_data"
    },
    {
     "data": {
      "text/html": [
       "<pre style=\"white-space:pre;overflow-x:auto;line-height:normal;font-family:Menlo,'DejaVu Sans Mono',consolas,'Courier New',monospace\"><span style=\"color: #7fbfbf; text-decoration-color: #7fbfbf\">[02/27/25 14:41:55] </span><span style=\"color: #800000; text-decoration-color: #800000\">WARNING </span> Vulnerability with ID CVE-<span style=\"color: #008080; text-decoration-color: #008080; font-weight: bold\">2024</span>-<span style=\"color: #008080; text-decoration-color: #008080; font-weight: bold\">44167</span> can't be summarized because it is too  <a href=\"file:///Users/macbook/Projects/hbit/common/dto.py\" target=\"_blank\"><span style=\"color: #7f7f7f; text-decoration-color: #7f7f7f\">dto.py</span></a><span style=\"color: #7f7f7f; text-decoration-color: #7f7f7f\">:</span><a href=\"file:///Users/macbook/Projects/hbit/common/dto.py#226\" target=\"_blank\"><span style=\"color: #7f7f7f; text-decoration-color: #7f7f7f\">226</span></a>\n",
       "<span style=\"color: #7fbfbf; text-decoration-color: #7fbfbf\">                    </span>         big <span style=\"font-weight: bold\">(</span>it has <span style=\"color: #008080; text-decoration-color: #008080; font-weight: bold\">29281</span> tokens<span style=\"font-weight: bold\">)</span>.                                                  <span style=\"color: #7f7f7f; text-decoration-color: #7f7f7f\">          </span>\n",
       "</pre>\n"
      ],
      "text/plain": [
       "\u001b[2;36m[02/27/25 14:41:55]\u001b[0m\u001b[2;36m \u001b[0m\u001b[31mWARNING \u001b[0m Vulnerability with ID CVE-\u001b[1;36m2024\u001b[0m-\u001b[1;36m44167\u001b[0m can't be summarized because it is too  \u001b]8;id=357658;file:///Users/macbook/Projects/hbit/common/dto.py\u001b\\\u001b[2mdto.py\u001b[0m\u001b]8;;\u001b\\\u001b[2m:\u001b[0m\u001b]8;id=467512;file:///Users/macbook/Projects/hbit/common/dto.py#226\u001b\\\u001b[2m226\u001b[0m\u001b]8;;\u001b\\\n",
       "\u001b[2;36m                    \u001b[0m         big \u001b[1m(\u001b[0mit has \u001b[1;36m29281\u001b[0m tokens\u001b[1m)\u001b[0m.                                                  \u001b[2m          \u001b[0m\n"
      ]
     },
     "metadata": {},
     "output_type": "display_data"
    },
    {
     "data": {
      "text/html": [
       "<pre style=\"white-space:pre;overflow-x:auto;line-height:normal;font-family:Menlo,'DejaVu Sans Mono',consolas,'Courier New',monospace\"><span style=\"color: #7fbfbf; text-decoration-color: #7fbfbf\">                    </span><span style=\"color: #800000; text-decoration-color: #800000\">WARNING </span> Vulnerability with ID CVE-<span style=\"color: #008080; text-decoration-color: #008080; font-weight: bold\">2024</span>-<span style=\"color: #008080; text-decoration-color: #008080; font-weight: bold\">44187</span> can't be summarized because it is too  <a href=\"file:///Users/macbook/Projects/hbit/common/dto.py\" target=\"_blank\"><span style=\"color: #7f7f7f; text-decoration-color: #7f7f7f\">dto.py</span></a><span style=\"color: #7f7f7f; text-decoration-color: #7f7f7f\">:</span><a href=\"file:///Users/macbook/Projects/hbit/common/dto.py#226\" target=\"_blank\"><span style=\"color: #7f7f7f; text-decoration-color: #7f7f7f\">226</span></a>\n",
       "<span style=\"color: #7fbfbf; text-decoration-color: #7fbfbf\">                    </span>         big <span style=\"font-weight: bold\">(</span>it has <span style=\"color: #008080; text-decoration-color: #008080; font-weight: bold\">36104</span> tokens<span style=\"font-weight: bold\">)</span>.                                                  <span style=\"color: #7f7f7f; text-decoration-color: #7f7f7f\">          </span>\n",
       "</pre>\n"
      ],
      "text/plain": [
       "\u001b[2;36m                   \u001b[0m\u001b[2;36m \u001b[0m\u001b[31mWARNING \u001b[0m Vulnerability with ID CVE-\u001b[1;36m2024\u001b[0m-\u001b[1;36m44187\u001b[0m can't be summarized because it is too  \u001b]8;id=543170;file:///Users/macbook/Projects/hbit/common/dto.py\u001b\\\u001b[2mdto.py\u001b[0m\u001b]8;;\u001b\\\u001b[2m:\u001b[0m\u001b]8;id=256461;file:///Users/macbook/Projects/hbit/common/dto.py#226\u001b\\\u001b[2m226\u001b[0m\u001b]8;;\u001b\\\n",
       "\u001b[2;36m                    \u001b[0m         big \u001b[1m(\u001b[0mit has \u001b[1;36m36104\u001b[0m tokens\u001b[1m)\u001b[0m.                                                  \u001b[2m          \u001b[0m\n"
      ]
     },
     "metadata": {},
     "output_type": "display_data"
    },
    {
     "data": {
      "text/html": [
       "<pre style=\"white-space:pre;overflow-x:auto;line-height:normal;font-family:Menlo,'DejaVu Sans Mono',consolas,'Courier New',monospace\"><span style=\"color: #7fbfbf; text-decoration-color: #7fbfbf\">[02/27/25 14:41:57] </span><span style=\"color: #800000; text-decoration-color: #800000\">WARNING </span> Vulnerability with ID CVE-<span style=\"color: #008080; text-decoration-color: #008080; font-weight: bold\">2024</span>-<span style=\"color: #008080; text-decoration-color: #008080; font-weight: bold\">44202</span> can't be summarized because it is too  <a href=\"file:///Users/macbook/Projects/hbit/common/dto.py\" target=\"_blank\"><span style=\"color: #7f7f7f; text-decoration-color: #7f7f7f\">dto.py</span></a><span style=\"color: #7f7f7f; text-decoration-color: #7f7f7f\">:</span><a href=\"file:///Users/macbook/Projects/hbit/common/dto.py#226\" target=\"_blank\"><span style=\"color: #7f7f7f; text-decoration-color: #7f7f7f\">226</span></a>\n",
       "<span style=\"color: #7fbfbf; text-decoration-color: #7fbfbf\">                    </span>         big <span style=\"font-weight: bold\">(</span>it has <span style=\"color: #008080; text-decoration-color: #008080; font-weight: bold\">22097</span> tokens<span style=\"font-weight: bold\">)</span>.                                                  <span style=\"color: #7f7f7f; text-decoration-color: #7f7f7f\">          </span>\n",
       "</pre>\n"
      ],
      "text/plain": [
       "\u001b[2;36m[02/27/25 14:41:57]\u001b[0m\u001b[2;36m \u001b[0m\u001b[31mWARNING \u001b[0m Vulnerability with ID CVE-\u001b[1;36m2024\u001b[0m-\u001b[1;36m44202\u001b[0m can't be summarized because it is too  \u001b]8;id=58423;file:///Users/macbook/Projects/hbit/common/dto.py\u001b\\\u001b[2mdto.py\u001b[0m\u001b]8;;\u001b\\\u001b[2m:\u001b[0m\u001b]8;id=547693;file:///Users/macbook/Projects/hbit/common/dto.py#226\u001b\\\u001b[2m226\u001b[0m\u001b]8;;\u001b\\\n",
       "\u001b[2;36m                    \u001b[0m         big \u001b[1m(\u001b[0mit has \u001b[1;36m22097\u001b[0m tokens\u001b[1m)\u001b[0m.                                                  \u001b[2m          \u001b[0m\n"
      ]
     },
     "metadata": {},
     "output_type": "display_data"
    },
    {
     "data": {
      "text/html": [
       "<pre style=\"white-space:pre;overflow-x:auto;line-height:normal;font-family:Menlo,'DejaVu Sans Mono',consolas,'Courier New',monospace\"><span style=\"color: #7fbfbf; text-decoration-color: #7fbfbf\">                    </span><span style=\"color: #800000; text-decoration-color: #800000\">WARNING </span> Vulnerability with ID CVE-<span style=\"color: #008080; text-decoration-color: #008080; font-weight: bold\">2024</span>-<span style=\"color: #008080; text-decoration-color: #008080; font-weight: bold\">44218</span> can't be summarized because it is too  <a href=\"file:///Users/macbook/Projects/hbit/common/dto.py\" target=\"_blank\"><span style=\"color: #7f7f7f; text-decoration-color: #7f7f7f\">dto.py</span></a><span style=\"color: #7f7f7f; text-decoration-color: #7f7f7f\">:</span><a href=\"file:///Users/macbook/Projects/hbit/common/dto.py#226\" target=\"_blank\"><span style=\"color: #7f7f7f; text-decoration-color: #7f7f7f\">226</span></a>\n",
       "<span style=\"color: #7fbfbf; text-decoration-color: #7fbfbf\">                    </span>         big <span style=\"font-weight: bold\">(</span>it has <span style=\"color: #008080; text-decoration-color: #008080; font-weight: bold\">60094</span> tokens<span style=\"font-weight: bold\">)</span>.                                                  <span style=\"color: #7f7f7f; text-decoration-color: #7f7f7f\">          </span>\n",
       "</pre>\n"
      ],
      "text/plain": [
       "\u001b[2;36m                   \u001b[0m\u001b[2;36m \u001b[0m\u001b[31mWARNING \u001b[0m Vulnerability with ID CVE-\u001b[1;36m2024\u001b[0m-\u001b[1;36m44218\u001b[0m can't be summarized because it is too  \u001b]8;id=101726;file:///Users/macbook/Projects/hbit/common/dto.py\u001b\\\u001b[2mdto.py\u001b[0m\u001b]8;;\u001b\\\u001b[2m:\u001b[0m\u001b]8;id=248879;file:///Users/macbook/Projects/hbit/common/dto.py#226\u001b\\\u001b[2m226\u001b[0m\u001b]8;;\u001b\\\n",
       "\u001b[2;36m                    \u001b[0m         big \u001b[1m(\u001b[0mit has \u001b[1;36m60094\u001b[0m tokens\u001b[1m)\u001b[0m.                                                  \u001b[2m          \u001b[0m\n"
      ]
     },
     "metadata": {},
     "output_type": "display_data"
    },
    {
     "data": {
      "text/markdown": [
       "## Security Analysis of iPhone XS (iOS 17.7.2) based on Provided Evaluations\n",
       "\n",
       "The provided security evaluations reveal a concerning security posture for the iPhone XS running iOS 17.7.2.  Multiple vulnerabilities, ranging from low to critical severity, expose the device to various attack vectors.  A summary of the key findings and analysis follows:\n",
       "\n",
       "**Critical Vulnerabilities:**\n",
       "\n",
       "* **CVE-2024-40867 (CVSS 9.6):** This is the most severe vulnerability, allowing remote attackers to escape the Web Content sandbox via a custom URL scheme handling issue.  This could lead to arbitrary code execution with the privileges of the web browser, potentially compromising the entire device.  Immediate upgrade to iOS 18 is crucial.\n",
       "* **CVE-2024-27874 (CVSS 7.5):** Uncontrolled resource consumption vulnerability allows remote denial-of-service attacks.  Attackers can exhaust system resources, rendering the device unusable.  This highlights the importance of resource management in iOS and the need for upgrading.\n",
       "* **CVE-2024-40856 (CVSS 7.5):** Forced disconnection from secure networks poses a significant risk to confidentiality and integrity, potentially exposing users to man-in-the-middle attacks.\n",
       "\n",
       "**Medium Severity Vulnerabilities:**\n",
       "\n",
       "Several vulnerabilities fall into the medium severity category (CVSS scores around 5.5), including:\n",
       "\n",
       "* **CVE-2021-32755 (Wire App):** While not an iOS vulnerability directly, the outdated Wire app presents a significant MITM risk.  Updating the app is crucial.\n",
       "* **Multiple vulnerabilities related to improper privilege management, data access, and privacy issues (CVE-2024-44131, CVE-2024-44147, CVE-2024-44170, CVE-2024-44194, CVE-2024-44198, CVE-2024-44204, CVE-2024-44215, CVE-2024-44229):** These vulnerabilities allow unauthorized access to sensitive data, network resources, and potentially lead to system instability.  They highlight weaknesses in iOS 17.7.2's security architecture.\n",
       "\n",
       "**Low Severity Vulnerabilities:**\n",
       "\n",
       "Several low-severity vulnerabilities (CVSS scores below 5) involve physical access (CVE-2024-44139, CVE-2024-40851, CVE-2024-44180) or require specific conditions like root privileges (CVE-2024-44123). While less critical, they still represent security weaknesses that should be addressed.\n",
       "\n",
       "**Overall Assessment:**\n",
       "\n",
       "The iPhone XS running iOS 17.7.2 is vulnerable to a range of attacks.  The presence of critical remote code execution and denial-of-service vulnerabilities necessitates immediate action.  Upgrading to iOS 18 is paramount to mitigate these risks.  Furthermore, users should ensure all applications, especially those handling sensitive data like Wire, are updated to the latest versions.\n",
       "\n",
       "**Recommendations:**\n",
       "\n",
       "* **Upgrade to iOS 18 immediately:** This is the most crucial step to address the identified vulnerabilities.\n",
       "* **Update all applications:** Ensure all apps, particularly Wire, are updated to the latest versions.\n",
       "* **Practice good security hygiene:** Use strong passwords, be cautious of phishing attacks, and avoid connecting to untrusted networks.\n",
       "* **Monitor security advisories:** Stay informed about new vulnerabilities and updates.\n",
       "* **Consider advanced security measures:** For high-risk environments, consider additional security measures like Mobile Device Management (MDM) solutions.\n",
       "\n",
       "\n",
       "This analysis underscores the importance of timely software updates and proactive security measures to protect against evolving threats.  The identified vulnerabilities demonstrate that even seemingly minor flaws can have significant security implications."
      ],
      "text/plain": [
       "<IPython.core.display.Markdown object>"
      ]
     },
     "execution_count": 6,
     "metadata": {},
     "output_type": "execute_result"
    }
   ],
   "source": [
    "response = sequence_evaluator.get_device_security_answer(question)\n",
    "Markdown(response)"
   ]
  }
 ],
 "metadata": {
  "kernelspec": {
   "display_name": ".venv",
   "language": "python",
   "name": "python3"
  },
  "language_info": {
   "codemirror_mode": {
    "name": "ipython",
    "version": 3
   },
   "file_extension": ".py",
   "mimetype": "text/x-python",
   "name": "python",
   "nbconvert_exporter": "python",
   "pygments_lexer": "ipython3",
   "version": "3.12.8"
  }
 },
 "nbformat": 4,
 "nbformat_minor": 2
}
