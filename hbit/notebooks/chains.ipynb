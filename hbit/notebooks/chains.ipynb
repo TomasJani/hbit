{
 "cells": [
  {
   "cell_type": "markdown",
   "metadata": {},
   "source": [
    "# Chain Evaluations\n"
   ]
  },
  {
   "cell_type": "code",
   "execution_count": 16,
   "metadata": {},
   "outputs": [
    {
     "name": "stdout",
     "output_type": "stream",
     "text": [
      "The autoreload extension is already loaded. To reload it, use:\n",
      "  %reload_ext autoreload\n",
      "env: LOGGING_LEVEL=INFO\n"
     ]
    }
   ],
   "source": [
    "%load_ext autoreload\n",
    "%autoreload all\n",
    "%env LOGGING_LEVEL=INFO"
   ]
  },
  {
   "cell_type": "code",
   "execution_count": 17,
   "metadata": {},
   "outputs": [],
   "source": [
    "from IPython.display import Markdown\n",
    "\n",
    "from hbit import bootstrap, endpoints, enums"
   ]
  },
  {
   "cell_type": "code",
   "execution_count": 18,
   "metadata": {},
   "outputs": [
    {
     "name": "stdout",
     "output_type": "stream",
     "text": [
      "\u001b[2;36m[01/25/25 15:25:31]\u001b[0m\u001b[2;36m \u001b[0m\u001b[34mINFO    \u001b[0m HTTP Request: \u001b[1;33mPOST\u001b[0m                  \u001b]8;id=946103;file:///Users/macbook/Projects/hbit/.venv/lib/python3.12/site-packages/httpx/_client.py\u001b\\\u001b[2m_client.py\u001b[0m\u001b]8;;\u001b\\\u001b[2m:\u001b[0m\u001b]8;id=427891;file:///Users/macbook/Projects/hbit/.venv/lib/python3.12/site-packages/httpx/_client.py#1025\u001b\\\u001b[2m1025\u001b[0m\u001b]8;;\u001b\\\n",
      "\u001b[2;36m                    \u001b[0m         \u001b[4;94mhttp://localhost:8000/api/v1/login/\u001b[0m \u001b[2m               \u001b[0m\n",
      "\u001b[2;36m                    \u001b[0m         \u001b[4;94maccess-token\u001b[0m \u001b[32m\"HTTP/1.1 200 OK\"\u001b[0m      \u001b[2m               \u001b[0m\n"
     ]
    },
    {
     "name": "stderr",
     "output_type": "stream",
     "text": [
      "/Users/macbook/Projects/hbit/.venv/lib/python3.12/site-packages/langchain_groq/chat_models.py:364: UserWarning: WARNING! seed is not default parameter.\n",
      "                    seed was transferred to model_kwargs.\n",
      "                    Please confirm that seed is what you intended.\n",
      "  warnings.warn(\n",
      "/Users/macbook/Projects/hbit/.venv/lib/python3.12/site-packages/langchain_groq/chat_models.py:364: UserWarning: WARNING! seed is not default parameter.\n",
      "                    seed was transferred to model_kwargs.\n",
      "                    Please confirm that seed is what you intended.\n",
      "  warnings.warn(\n",
      "/Users/macbook/Projects/hbit/.venv/lib/python3.12/site-packages/langchain_groq/chat_models.py:364: UserWarning: WARNING! seed is not default parameter.\n",
      "                    seed was transferred to model_kwargs.\n",
      "                    Please confirm that seed is what you intended.\n",
      "  warnings.warn(\n"
     ]
    },
    {
     "data": {
      "text/plain": [
       "<hbit.services.service_container.ServiceContainer at 0x12c161430>"
      ]
     },
     "execution_count": 18,
     "metadata": {},
     "output_type": "execute_result"
    }
   ],
   "source": [
    "registry = bootstrap.create_services(\n",
    "    device_extractor_type=enums.DeviceExtractorType.JSON,\n",
    "    patch_extractor_type=enums.PatchExtractorType.JSON,\n",
    "    device_evaluation_type=enums.DeviceEvaluationType.AI,\n",
    "    patch_evaluation_type=enums.PatchEvaluationType.AI,\n",
    "    summary_service_type=enums.SummaryServiceType.AI,\n",
    ")\n",
    "registry"
   ]
  },
  {
   "cell_type": "code",
   "execution_count": 19,
   "metadata": {},
   "outputs": [
    {
     "data": {
      "text/plain": [
       "<hbit.endpoints.sequences.ImperativeEvaluator at 0x12c13d010>"
      ]
     },
     "execution_count": 19,
     "metadata": {},
     "output_type": "execute_result"
    }
   ],
   "source": [
    "chain_evaluator = endpoints.ChainDeviceEvaluator(registry=registry)\n",
    "chain_evaluator"
   ]
  },
  {
   "cell_type": "code",
   "execution_count": 20,
   "metadata": {},
   "outputs": [],
   "source": [
    "question = \"How does the iOS 17.1.1 patch improve security on iPhone 13 devices? What is its build number?\"\n",
    "question = \"How secure is an iPhone XS running iOS 17.7.2? Are there any known vulnerabilities or security concerns with this version?\""
   ]
  },
  {
   "cell_type": "code",
   "execution_count": 21,
   "metadata": {},
   "outputs": [
    {
     "name": "stdout",
     "output_type": "stream",
     "text": [
      "\u001b[2;36m[01/25/25 15:25:58]\u001b[0m\u001b[2;36m \u001b[0m\u001b[34mINFO    \u001b[0m HTTP Request: \u001b[1;33mPOST\u001b[0m                  \u001b]8;id=563026;file:///Users/macbook/Projects/hbit/.venv/lib/python3.12/site-packages/httpx/_client.py\u001b\\\u001b[2m_client.py\u001b[0m\u001b]8;;\u001b\\\u001b[2m:\u001b[0m\u001b]8;id=340088;file:///Users/macbook/Projects/hbit/.venv/lib/python3.12/site-packages/httpx/_client.py#1025\u001b\\\u001b[2m1025\u001b[0m\u001b]8;;\u001b\\\n",
      "\u001b[2;36m                    \u001b[0m         \u001b[4;94mhttps://api.groq.com/openai/v1/chat\u001b[0m \u001b[2m               \u001b[0m\n",
      "\u001b[2;36m                    \u001b[0m         \u001b[4;94m/completions\u001b[0m \u001b[32m\"HTTP/1.1 200 OK\"\u001b[0m      \u001b[2m               \u001b[0m\n",
      "\u001b[2;36m[01/25/25 15:26:19]\u001b[0m\u001b[2;36m \u001b[0m\u001b[34mINFO    \u001b[0m HTTP Request: \u001b[1;33mPOST\u001b[0m                  \u001b]8;id=416539;file:///Users/macbook/Projects/hbit/.venv/lib/python3.12/site-packages/httpx/_client.py\u001b\\\u001b[2m_client.py\u001b[0m\u001b]8;;\u001b\\\u001b[2m:\u001b[0m\u001b]8;id=316032;file:///Users/macbook/Projects/hbit/.venv/lib/python3.12/site-packages/httpx/_client.py#1025\u001b\\\u001b[2m1025\u001b[0m\u001b]8;;\u001b\\\n",
      "\u001b[2;36m                    \u001b[0m         \u001b[4;94mhttps://api.groq.com/openai/v1/chat\u001b[0m \u001b[2m               \u001b[0m\n",
      "\u001b[2;36m                    \u001b[0m         \u001b[4;94m/completions\u001b[0m \u001b[32m\"HTTP/1.1 200 OK\"\u001b[0m      \u001b[2m               \u001b[0m\n",
      "\u001b[2;36m                   \u001b[0m\u001b[2;36m \u001b[0m\u001b[34mINFO    \u001b[0m HTTP Request: \u001b[1;33mGET\u001b[0m                   \u001b]8;id=30838;file:///Users/macbook/Projects/hbit/.venv/lib/python3.12/site-packages/httpx/_client.py\u001b\\\u001b[2m_client.py\u001b[0m\u001b]8;;\u001b\\\u001b[2m:\u001b[0m\u001b]8;id=56219;file:///Users/macbook/Projects/hbit/.venv/lib/python3.12/site-packages/httpx/_client.py#1025\u001b\\\u001b[2m1025\u001b[0m\u001b]8;;\u001b\\\n",
      "\u001b[2;36m                    \u001b[0m         \u001b[4;94mhttp://localhost:8000/api/v1/device\u001b[0m \u001b[2m               \u001b[0m\n",
      "\u001b[2;36m                    \u001b[0m         \u001b[4;94m-evaluation?\u001b[0m\u001b[4;94mdevice_identifier\u001b[0m\u001b[4;94m=\u001b[0m\u001b[4;94miphon\u001b[0m \u001b[2m               \u001b[0m\n",
      "\u001b[2;36m                    \u001b[0m         \u001b[4;94me11\u001b[0m\u001b[4;94m,2&\u001b[0m\u001b[4;94mpatch_build\u001b[0m\u001b[4;94m=\u001b[0m\u001b[4;94m21h221\u001b[0m \u001b[32m\"HTTP/1.1 \u001b[0m \u001b[2m               \u001b[0m\n",
      "\u001b[2;36m                    \u001b[0m         \u001b[32m200 OK\"\u001b[0m                             \u001b[2m               \u001b[0m\n",
      "\u001b[2;36m                   \u001b[0m\u001b[2;36m \u001b[0m\u001b[33mWARNING \u001b[0m Vulnerability with ID             \u001b]8;id=474234;file:///Users/macbook/Projects/hbit/hbit/evaluations.py\u001b\\\u001b[2mevaluations.py\u001b[0m\u001b]8;;\u001b\\\u001b[2m:\u001b[0m\u001b]8;id=962144;file:///Users/macbook/Projects/hbit/hbit/evaluations.py#55\u001b\\\u001b[2m55\u001b[0m\u001b]8;;\u001b\\\n",
      "\u001b[2;36m                    \u001b[0m         CVE-\u001b[1;36m2024\u001b[0m-\u001b[1;36m44241\u001b[0m can't be           \u001b[2m                 \u001b[0m\n",
      "\u001b[2;36m                    \u001b[0m         summarized because it is too big  \u001b[2m                 \u001b[0m\n",
      "\u001b[2;36m                    \u001b[0m         \u001b[1m(\u001b[0mit has \u001b[1;36m38168\u001b[0m tokens\u001b[1m)\u001b[0m.            \u001b[2m                 \u001b[0m\n",
      "\u001b[2;36m[01/25/25 15:26:40]\u001b[0m\u001b[2;36m \u001b[0m\u001b[34mINFO    \u001b[0m HTTP Request: \u001b[1;33mPOST\u001b[0m                  \u001b]8;id=581040;file:///Users/macbook/Projects/hbit/.venv/lib/python3.12/site-packages/httpx/_client.py\u001b\\\u001b[2m_client.py\u001b[0m\u001b]8;;\u001b\\\u001b[2m:\u001b[0m\u001b]8;id=774289;file:///Users/macbook/Projects/hbit/.venv/lib/python3.12/site-packages/httpx/_client.py#1025\u001b\\\u001b[2m1025\u001b[0m\u001b]8;;\u001b\\\n",
      "\u001b[2;36m                    \u001b[0m         \u001b[4;94mhttps://api.groq.com/openai/v1/chat\u001b[0m \u001b[2m               \u001b[0m\n",
      "\u001b[2;36m                    \u001b[0m         \u001b[4;94m/completions\u001b[0m \u001b[32m\"HTTP/1.1 200 OK\"\u001b[0m      \u001b[2m               \u001b[0m\n",
      "\u001b[2;36m[01/25/25 15:26:59]\u001b[0m\u001b[2;36m \u001b[0m\u001b[34mINFO    \u001b[0m HTTP Request: \u001b[1;33mPOST\u001b[0m                  \u001b]8;id=349457;file:///Users/macbook/Projects/hbit/.venv/lib/python3.12/site-packages/httpx/_client.py\u001b\\\u001b[2m_client.py\u001b[0m\u001b]8;;\u001b\\\u001b[2m:\u001b[0m\u001b]8;id=930819;file:///Users/macbook/Projects/hbit/.venv/lib/python3.12/site-packages/httpx/_client.py#1025\u001b\\\u001b[2m1025\u001b[0m\u001b]8;;\u001b\\\n",
      "\u001b[2;36m                    \u001b[0m         \u001b[4;94mhttps://api.groq.com/openai/v1/chat\u001b[0m \u001b[2m               \u001b[0m\n",
      "\u001b[2;36m                    \u001b[0m         \u001b[4;94m/completions\u001b[0m \u001b[32m\"HTTP/1.1 200 OK\"\u001b[0m      \u001b[2m               \u001b[0m\n",
      "\u001b[2;36m[01/25/25 15:27:20]\u001b[0m\u001b[2;36m \u001b[0m\u001b[34mINFO    \u001b[0m HTTP Request: \u001b[1;33mPOST\u001b[0m                  \u001b]8;id=734383;file:///Users/macbook/Projects/hbit/.venv/lib/python3.12/site-packages/httpx/_client.py\u001b\\\u001b[2m_client.py\u001b[0m\u001b]8;;\u001b\\\u001b[2m:\u001b[0m\u001b]8;id=999534;file:///Users/macbook/Projects/hbit/.venv/lib/python3.12/site-packages/httpx/_client.py#1025\u001b\\\u001b[2m1025\u001b[0m\u001b]8;;\u001b\\\n",
      "\u001b[2;36m                    \u001b[0m         \u001b[4;94mhttps://api.groq.com/openai/v1/chat\u001b[0m \u001b[2m               \u001b[0m\n",
      "\u001b[2;36m                    \u001b[0m         \u001b[4;94m/completions\u001b[0m \u001b[32m\"HTTP/1.1 200 OK\"\u001b[0m      \u001b[2m               \u001b[0m\n",
      "\u001b[2;36m[01/25/25 15:27:40]\u001b[0m\u001b[2;36m \u001b[0m\u001b[34mINFO    \u001b[0m HTTP Request: \u001b[1;33mPOST\u001b[0m                  \u001b]8;id=205651;file:///Users/macbook/Projects/hbit/.venv/lib/python3.12/site-packages/httpx/_client.py\u001b\\\u001b[2m_client.py\u001b[0m\u001b]8;;\u001b\\\u001b[2m:\u001b[0m\u001b]8;id=499672;file:///Users/macbook/Projects/hbit/.venv/lib/python3.12/site-packages/httpx/_client.py#1025\u001b\\\u001b[2m1025\u001b[0m\u001b]8;;\u001b\\\n",
      "\u001b[2;36m                    \u001b[0m         \u001b[4;94mhttps://api.groq.com/openai/v1/chat\u001b[0m \u001b[2m               \u001b[0m\n",
      "\u001b[2;36m                    \u001b[0m         \u001b[4;94m/completions\u001b[0m \u001b[32m\"HTTP/1.1 200 OK\"\u001b[0m      \u001b[2m               \u001b[0m\n",
      "\u001b[2;36m[01/25/25 15:28:02]\u001b[0m\u001b[2;36m \u001b[0m\u001b[34mINFO    \u001b[0m HTTP Request: \u001b[1;33mPOST\u001b[0m                  \u001b]8;id=944631;file:///Users/macbook/Projects/hbit/.venv/lib/python3.12/site-packages/httpx/_client.py\u001b\\\u001b[2m_client.py\u001b[0m\u001b]8;;\u001b\\\u001b[2m:\u001b[0m\u001b]8;id=186698;file:///Users/macbook/Projects/hbit/.venv/lib/python3.12/site-packages/httpx/_client.py#1025\u001b\\\u001b[2m1025\u001b[0m\u001b]8;;\u001b\\\n",
      "\u001b[2;36m                    \u001b[0m         \u001b[4;94mhttps://api.groq.com/openai/v1/chat\u001b[0m \u001b[2m               \u001b[0m\n",
      "\u001b[2;36m                    \u001b[0m         \u001b[4;94m/completions\u001b[0m \u001b[32m\"HTTP/1.1 200 OK\"\u001b[0m      \u001b[2m               \u001b[0m\n",
      "\u001b[2;36m[01/25/25 15:28:21]\u001b[0m\u001b[2;36m \u001b[0m\u001b[34mINFO    \u001b[0m HTTP Request: \u001b[1;33mPOST\u001b[0m                  \u001b]8;id=458728;file:///Users/macbook/Projects/hbit/.venv/lib/python3.12/site-packages/httpx/_client.py\u001b\\\u001b[2m_client.py\u001b[0m\u001b]8;;\u001b\\\u001b[2m:\u001b[0m\u001b]8;id=188189;file:///Users/macbook/Projects/hbit/.venv/lib/python3.12/site-packages/httpx/_client.py#1025\u001b\\\u001b[2m1025\u001b[0m\u001b]8;;\u001b\\\n",
      "\u001b[2;36m                    \u001b[0m         \u001b[4;94mhttps://api.groq.com/openai/v1/chat\u001b[0m \u001b[2m               \u001b[0m\n",
      "\u001b[2;36m                    \u001b[0m         \u001b[4;94m/completions\u001b[0m \u001b[32m\"HTTP/1.1 200 OK\"\u001b[0m      \u001b[2m               \u001b[0m\n",
      "\u001b[2;36m[01/25/25 15:28:41]\u001b[0m\u001b[2;36m \u001b[0m\u001b[34mINFO    \u001b[0m HTTP Request: \u001b[1;33mPOST\u001b[0m                  \u001b]8;id=838146;file:///Users/macbook/Projects/hbit/.venv/lib/python3.12/site-packages/httpx/_client.py\u001b\\\u001b[2m_client.py\u001b[0m\u001b]8;;\u001b\\\u001b[2m:\u001b[0m\u001b]8;id=463620;file:///Users/macbook/Projects/hbit/.venv/lib/python3.12/site-packages/httpx/_client.py#1025\u001b\\\u001b[2m1025\u001b[0m\u001b]8;;\u001b\\\n",
      "\u001b[2;36m                    \u001b[0m         \u001b[4;94mhttps://api.groq.com/openai/v1/chat\u001b[0m \u001b[2m               \u001b[0m\n",
      "\u001b[2;36m                    \u001b[0m         \u001b[4;94m/completions\u001b[0m \u001b[32m\"HTTP/1.1 200 OK\"\u001b[0m      \u001b[2m               \u001b[0m\n",
      "\u001b[2;36m[01/25/25 15:29:01]\u001b[0m\u001b[2;36m \u001b[0m\u001b[34mINFO    \u001b[0m HTTP Request: \u001b[1;33mPOST\u001b[0m                  \u001b]8;id=42438;file:///Users/macbook/Projects/hbit/.venv/lib/python3.12/site-packages/httpx/_client.py\u001b\\\u001b[2m_client.py\u001b[0m\u001b]8;;\u001b\\\u001b[2m:\u001b[0m\u001b]8;id=560571;file:///Users/macbook/Projects/hbit/.venv/lib/python3.12/site-packages/httpx/_client.py#1025\u001b\\\u001b[2m1025\u001b[0m\u001b]8;;\u001b\\\n",
      "\u001b[2;36m                    \u001b[0m         \u001b[4;94mhttps://api.groq.com/openai/v1/chat\u001b[0m \u001b[2m               \u001b[0m\n",
      "\u001b[2;36m                    \u001b[0m         \u001b[4;94m/completions\u001b[0m \u001b[32m\"HTTP/1.1 200 OK\"\u001b[0m      \u001b[2m               \u001b[0m\n",
      "\u001b[2;36m                   \u001b[0m\u001b[2;36m \u001b[0m\u001b[33mWARNING \u001b[0m Vulnerability with ID             \u001b]8;id=298312;file:///Users/macbook/Projects/hbit/hbit/evaluations.py\u001b\\\u001b[2mevaluations.py\u001b[0m\u001b]8;;\u001b\\\u001b[2m:\u001b[0m\u001b]8;id=784864;file:///Users/macbook/Projects/hbit/hbit/evaluations.py#55\u001b\\\u001b[2m55\u001b[0m\u001b]8;;\u001b\\\n",
      "\u001b[2;36m                    \u001b[0m         CVE-\u001b[1;36m2024\u001b[0m-\u001b[1;36m44218\u001b[0m can't be           \u001b[2m                 \u001b[0m\n",
      "\u001b[2;36m                    \u001b[0m         summarized because it is too big  \u001b[2m                 \u001b[0m\n",
      "\u001b[2;36m                    \u001b[0m         \u001b[1m(\u001b[0mit has \u001b[1;36m60094\u001b[0m tokens\u001b[1m)\u001b[0m.            \u001b[2m                 \u001b[0m\n",
      "\u001b[2;36m[01/25/25 15:29:22]\u001b[0m\u001b[2;36m \u001b[0m\u001b[34mINFO    \u001b[0m HTTP Request: \u001b[1;33mPOST\u001b[0m                  \u001b]8;id=585626;file:///Users/macbook/Projects/hbit/.venv/lib/python3.12/site-packages/httpx/_client.py\u001b\\\u001b[2m_client.py\u001b[0m\u001b]8;;\u001b\\\u001b[2m:\u001b[0m\u001b]8;id=397693;file:///Users/macbook/Projects/hbit/.venv/lib/python3.12/site-packages/httpx/_client.py#1025\u001b\\\u001b[2m1025\u001b[0m\u001b]8;;\u001b\\\n",
      "\u001b[2;36m                    \u001b[0m         \u001b[4;94mhttps://api.groq.com/openai/v1/chat\u001b[0m \u001b[2m               \u001b[0m\n",
      "\u001b[2;36m                    \u001b[0m         \u001b[4;94m/completions\u001b[0m \u001b[32m\"HTTP/1.1 200 OK\"\u001b[0m      \u001b[2m               \u001b[0m\n"
     ]
    },
    {
     "data": {
      "text/markdown": [
       "As an expert cyber-security analyst, I'd be happy to provide an analysis of the security of an iPhone XS running iOS 17.7.2.\n",
       "\n",
       "**Summary of Security Evaluations:**\n",
       "\n",
       "* **CVSS (Common Vulnerability Scoring System) Score:** 4.3 (out of 10) - This indicates a moderate level of severity.\n",
       "* **NVD (National Vulnerability Database) Rating:** 6.5 (out of 10) - This suggests a moderate to high level of severity.\n",
       "* **iOS 17.7.2 Security Patch Notes:** Apple has addressed 21 security vulnerabilities in this version, including issues with CoreGraphics, ImageIO, and WebKit.\n",
       "\n",
       "**Analysis:**\n",
       "\n",
       "The iPhone XS running iOS 17.7.2 is a relatively secure device, considering Apple's reputation for prioritizing security and regularly releasing updates to address vulnerabilities. However, no device is completely immune to security concerns.\n",
       "\n",
       "**Known Vulnerabilities and Security Concerns:**\n",
       "\n",
       "1. **WebKit Vulnerabilities:** iOS 17.7.2 addresses several WebKit vulnerabilities, including CVE-2023-42858, which could allow an attacker to execute arbitrary code on a user's device. While this vulnerability has been patched, it highlights the importance of keeping your browser and operating system up to date.\n",
       "2. **CoreGraphics and ImageIO Issues:** Apple has fixed several vulnerabilities in CoreGraphics and ImageIO, which could have led to arbitrary code execution or denial-of-service attacks. These issues are now mitigated, but they demonstrate the ongoing need for vigilance in the face of evolving threats.\n",
       "3. **Sandbox Escape Vulnerabilities:** Researchers have identified sandbox escape vulnerabilities in iOS, which could allow an attacker to bypass security restrictions and access sensitive data. While these vulnerabilities are not specific to iOS 17.7.2, they underscore the importance of implementing additional security measures, such as enabling two-factor authentication and using a VPN.\n",
       "\n",
       "**Recommendations:**\n",
       "\n",
       "To maximize the security of your iPhone XS running iOS 17.7.2:\n",
       "\n",
       "1. **Keep your device and apps up to date:** Regularly check for and install updates to ensure you have the latest security patches.\n",
       "2. **Use strong passwords and 2FA:** Enable two-factor authentication and use unique, complex passwords to protect your device and online accounts.\n",
       "3. **Be cautious with links and attachments:** Avoid clicking on suspicious links or opening attachments from unknown sources to minimize the risk of phishing attacks.\n",
       "4. **Use a VPN:** Consider using a reputable virtual private network (VPN) to encrypt your internet traffic and protect your data when using public Wi-Fi networks.\n",
       "5. **Monitor your device for suspicious activity:** Keep an eye on your device's performance and watch for signs of unusual behavior, such as unexpected battery drain or unfamiliar apps.\n",
       "\n",
       "By following these recommendations and staying informed about the latest security updates, you can minimize the risks associated with using an iPhone XS running iOS 17.7.2."
      ],
      "text/plain": [
       "<IPython.core.display.Markdown object>"
      ]
     },
     "execution_count": 21,
     "metadata": {},
     "output_type": "execute_result"
    }
   ],
   "source": [
    "response = chain_evaluator.get_device_security_answer(question)\n",
    "Markdown(response)"
   ]
  }
 ],
 "metadata": {
  "kernelspec": {
   "display_name": ".venv",
   "language": "python",
   "name": "python3"
  },
  "language_info": {
   "codemirror_mode": {
    "name": "ipython",
    "version": 3
   },
   "file_extension": ".py",
   "mimetype": "text/x-python",
   "name": "python",
   "nbconvert_exporter": "python",
   "pygments_lexer": "ipython3",
   "version": "3.12.6"
  }
 },
 "nbformat": 4,
 "nbformat_minor": 2
}
